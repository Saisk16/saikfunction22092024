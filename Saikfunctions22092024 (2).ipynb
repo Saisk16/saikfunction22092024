{
  "nbformat": 4,
  "nbformat_minor": 0,
  "metadata": {
    "colab": {
      "provenance": []
    },
    "kernelspec": {
      "name": "python3",
      "display_name": "Python 3"
    },
    "language_info": {
      "name": "python"
    }
  },
  "cells": [
    {
      "cell_type": "code",
      "execution_count": null,
      "metadata": {
        "id": "WCiS8YDvfLiN"
      },
      "outputs": [],
      "source": [
        "#Assignment 5:Functions"
      ]
    },
    {
      "cell_type": "markdown",
      "source": [
        "Q1)What is the difference between a function and a method in Python?\n",
        "Soln. Methods are associated with objects, while functions are not. Methods cannot be called by their name alone, but functions can be called using their name directly. Methods directly access attributes and properties of object they are associated with, functions wouldneed the function as an arguement for the same action.\n"
      ],
      "metadata": {
        "id": "4NZUUiyvf5xS"
      }
    },
    {
      "cell_type": "code",
      "source": [
        "# method\n",
        "class greet:\n",
        "  def hello():\n",
        "    print(\"hii there\")\n",
        "\n",
        "greet.hello()\n",
        "\n",
        "# function\n",
        "def greet2():\n",
        "  print(\"hello there\")\n",
        "greet2()"
      ],
      "metadata": {
        "colab": {
          "base_uri": "https://localhost:8080/"
        },
        "id": "0hCmgEU4jJoD",
        "outputId": "fc45b18d-39a8-4b7f-ce89-32e240727824"
      },
      "execution_count": null,
      "outputs": [
        {
          "output_type": "stream",
          "name": "stdout",
          "text": [
            "hii there\n",
            "hello there\n"
          ]
        }
      ]
    },
    {
      "cell_type": "markdown",
      "source": [
        " Q2.. Explain the concept of function arguments and parameters in Python\n",
        "\n",
        " Soln. Parameters are listed in function definition parenthesis, they define the functions signature, quantity and type of inputs acceptable. Arguements are raw values passed to the function when called.\n"
      ],
      "metadata": {
        "id": "wRmsewC9hufI"
      }
    },
    {
      "cell_type": "code",
      "source": [
        "def add(x,y):# parameters\n",
        "  return x+y\n",
        "add(2,4) # arguments\n"
      ],
      "metadata": {
        "colab": {
          "base_uri": "https://localhost:8080/"
        },
        "id": "MFpNOhROmBT-",
        "outputId": "fb217b25-b34a-4aa8-dde8-8e4512fcd421"
      },
      "execution_count": null,
      "outputs": [
        {
          "output_type": "execute_result",
          "data": {
            "text/plain": [
              "6"
            ]
          },
          "metadata": {},
          "execution_count": 11
        }
      ]
    },
    {
      "cell_type": "markdown",
      "source": [
        "Q3.What are the different ways to define and call a function in Python?\n",
        "\n",
        "Soln. Using def keyword, follwed by function name, adding parameter names, followed by a colon, add statements, and end the function with a return statement."
      ],
      "metadata": {
        "id": "uJuj-RtljCck"
      }
    },
    {
      "cell_type": "code",
      "source": [
        "def sayhii(name):\n",
        "  print(\"hello\",name)\n",
        "\n",
        "sayhii(\"sai\")"
      ],
      "metadata": {
        "colab": {
          "base_uri": "https://localhost:8080/"
        },
        "id": "dAje0pLPxL5b",
        "outputId": "aef7d82b-26d5-422f-bf30-16ebde0f69da"
      },
      "execution_count": null,
      "outputs": [
        {
          "output_type": "stream",
          "name": "stdout",
          "text": [
            "hello sai\n"
          ]
        }
      ]
    },
    {
      "cell_type": "code",
      "source": [],
      "metadata": {
        "id": "7axsdMLBxxcA"
      },
      "execution_count": null,
      "outputs": []
    },
    {
      "cell_type": "markdown",
      "source": [
        "4. What is the purpose of the `return` statement in a Python function?\n",
        "Soln. Return statement ends execution of the function, any statement after return is not execcuted when function is called."
      ],
      "metadata": {
        "id": "9NX9jx29x-DA"
      }
    },
    {
      "cell_type": "code",
      "source": [
        "def sub(x,y):\n",
        "  return x-y\n",
        "sub(7,4)"
      ],
      "metadata": {
        "colab": {
          "base_uri": "https://localhost:8080/"
        },
        "id": "IbUUnCh7y4yk",
        "outputId": "943c2edf-84e2-4eef-e00b-673fcc0602ba"
      },
      "execution_count": null,
      "outputs": [
        {
          "output_type": "execute_result",
          "data": {
            "text/plain": [
              "3"
            ]
          },
          "metadata": {},
          "execution_count": 13
        }
      ]
    },
    {
      "cell_type": "markdown",
      "source": [
        "Q5  What are iterators in Python and how do they differ from iterables?\n",
        "\n",
        "Soln. Iterable is an object that any user can iterate over. Iterator is also an object that helps a user in iterating over another object."
      ],
      "metadata": {
        "id": "NkxQrSiezmq8"
      }
    },
    {
      "cell_type": "markdown",
      "source": [
        "Q6 . Explain the concept of generators in Python and how they are defined.\n",
        "\n",
        "soln. Generator is a function that returns an iterator using yield keyword."
      ],
      "metadata": {
        "id": "ym41tuZi0HGo"
      }
    },
    {
      "cell_type": "code",
      "source": [
        "def genf():\n",
        "  yield 4\n",
        "  yield 6\n",
        "  yield 8\n",
        "\n",
        "for t in genf():\n",
        "  print(t)"
      ],
      "metadata": {
        "colab": {
          "base_uri": "https://localhost:8080/"
        },
        "id": "PvnVLzBV1ET2",
        "outputId": "f6139b29-d84c-4240-f3e8-77eb7f6e3742"
      },
      "execution_count": null,
      "outputs": [
        {
          "output_type": "stream",
          "name": "stdout",
          "text": [
            "4\n",
            "6\n",
            "8\n"
          ]
        }
      ]
    },
    {
      "cell_type": "markdown",
      "source": [
        "Q7. What are the advantages of using generators over regular functions?\n",
        "\n",
        "Soln. Generators can process large data unlike functions.Generators can return multiple values unlike single value returned by functions.Regular function run till completion, generators can pause and resume later."
      ],
      "metadata": {
        "id": "nTwHi_vv1qD8"
      }
    },
    {
      "cell_type": "code",
      "source": [
        "def genf():  # generator\n",
        "  i=1\n",
        "  print(\"first\")\n",
        "  yield i+1\n",
        "  print(\"second\")\n",
        "  yield i+2\n",
        "  print(\"third\")\n",
        "  yield i+3\n",
        "genobj=genf()\n",
        "sa=genobj.__next__()\n",
        "sb=genobj.__next__()\n",
        "sc=genobj.__next__()\n",
        "print(sa)\n",
        "print(sb)\n",
        "print(sc)\n",
        "\n",
        "def addtwo(k,l): # function\n",
        "   return k+l\n",
        "\n",
        "addtwo(7,9)"
      ],
      "metadata": {
        "colab": {
          "base_uri": "https://localhost:8080/"
        },
        "id": "M7lRIb7040z1",
        "outputId": "e3980b70-2b3a-4d40-99f9-525665a396be"
      },
      "execution_count": null,
      "outputs": [
        {
          "output_type": "stream",
          "name": "stdout",
          "text": [
            "first\n",
            "second\n",
            "third\n",
            "2\n",
            "3\n",
            "4\n"
          ]
        },
        {
          "output_type": "execute_result",
          "data": {
            "text/plain": [
              "16"
            ]
          },
          "metadata": {},
          "execution_count": 18
        }
      ]
    },
    {
      "cell_type": "markdown",
      "source": [
        "Q8. What is a lambda function in Python and when is it typically used?\n",
        "\n",
        "Soln. A nameless function that returns only one expression taking more than one argument."
      ],
      "metadata": {
        "id": "_fsZdVr2Ej3g"
      }
    },
    {
      "cell_type": "code",
      "source": [
        "x=lambda a,b:a*b\n",
        "print(x(5,7))"
      ],
      "metadata": {
        "colab": {
          "base_uri": "https://localhost:8080/"
        },
        "id": "uhi3KIie6AaS",
        "outputId": "b0b4e237-1d08-4918-c727-fc047f01c262"
      },
      "execution_count": null,
      "outputs": [
        {
          "output_type": "stream",
          "name": "stdout",
          "text": [
            "35\n"
          ]
        }
      ]
    },
    {
      "cell_type": "markdown",
      "source": [
        "Q 9.  Explain the purpose and usage of the `map()` function in Python.\n",
        "\n",
        "Soln. The map function executes a function to each element of an iterable(tuple, list)."
      ],
      "metadata": {
        "id": "StOMfiNOHATD"
      }
    },
    {
      "cell_type": "code",
      "source": [
        "def double(x):\n",
        "  return x*2\n",
        "\n",
        "a=[6,4,7,2,3]\n",
        "f=map(double,a)\n",
        "print(list(f))"
      ],
      "metadata": {
        "colab": {
          "base_uri": "https://localhost:8080/"
        },
        "id": "GpdjpqixHk_T",
        "outputId": "9dab4f86-4c67-4822-c464-ade082b966b7"
      },
      "execution_count": null,
      "outputs": [
        {
          "output_type": "stream",
          "name": "stdout",
          "text": [
            "[12, 8, 14, 4, 6]\n"
          ]
        }
      ]
    },
    {
      "cell_type": "code",
      "source": [],
      "metadata": {
        "id": "kmc9dXoXINtx"
      },
      "execution_count": null,
      "outputs": []
    },
    {
      "cell_type": "markdown",
      "source": [
        "Q 10. What is the difference between `map()`, `reduce()`, and `filter()` functions in Python?\n",
        "\n",
        "Soln. Map executes function passed as an argument on each of iterables.\n",
        "Filter is used to form a new list containing elements that satisfy a certain condition\n",
        "Reduce returns a single value based on function and iterable passed."
      ],
      "metadata": {
        "id": "f1L3ZgmOIkiH"
      }
    },
    {
      "cell_type": "code",
      "source": [
        "def positive(A):\n",
        "  return A>=0\n",
        "\n",
        "S=[6,-7,9,-3,8]\n",
        "filterS=filter(positive,S)\n",
        "print(\"filtered output is\")\n",
        "print(list(filterS))\n",
        "\n",
        "\n",
        "\n",
        "\n",
        "def double(x): # map\n",
        "  return x*2\n",
        "\n",
        "a=[6,4,7,2,3]\n",
        "f=map(double,a)\n",
        "print(\"map output is\")\n",
        "print(list(f))\n",
        "\n",
        "\n",
        "\n",
        "from functools import reduce  #reduce\n",
        "def add(x,y):\n",
        "  return x+y\n",
        "\n",
        "a=[5,4,2,7]\n",
        "print(\"output with reduce is\")\n",
        "print(reduce(add,a))"
      ],
      "metadata": {
        "colab": {
          "base_uri": "https://localhost:8080/"
        },
        "id": "wnGi2o0fLbHu",
        "outputId": "6025840a-3b54-4ac8-b12f-de5e302191b6"
      },
      "execution_count": null,
      "outputs": [
        {
          "output_type": "stream",
          "name": "stdout",
          "text": [
            "filtered output is\n",
            "[6, 9, 8]\n",
            "map output is\n",
            "[12, 8, 14, 4, 6]\n",
            "output with reduce is\n",
            "18\n"
          ]
        }
      ]
    },
    {
      "cell_type": "markdown",
      "source": [
        "Q11. . Using pen & Paper write the internal mechanism for sum operation using  reduce function on this given  list:[47,11,42,13];\n",
        "\n",
        "Soln. PFA image\n",
        "\n"
      ],
      "metadata": {
        "id": "GAkfplnwSfuV"
      }
    },
    {
      "cell_type": "markdown",
      "source": [
        "Q12. . Write a Python function that takes a list of numbers as input and returns the sum of all even numbers in\n",
        "the list."
      ],
      "metadata": {
        "id": "ccTI_bNFUEHy"
      }
    },
    {
      "cell_type": "code",
      "source": [
        "import numpy as np\n",
        "\n",
        "l=[7,8,9,6,5,4]\n",
        "def evenl(x):\n",
        "  return x%2==0\n",
        "even2=list(filter(evenl,l))\n",
        "print(\"the even elements are\")\n",
        "print(even2)\n",
        "def add(x,y):\n",
        "  return x+y\n",
        "sum=reduce(add,even2)\n",
        "print(f\"the sum of even elements is \",sum)\n"
      ],
      "metadata": {
        "colab": {
          "base_uri": "https://localhost:8080/"
        },
        "id": "GT6_x9JaUIBV",
        "outputId": "5bd0f3c8-e95b-4280-fa6d-4effa151e89c"
      },
      "execution_count": 34,
      "outputs": [
        {
          "output_type": "stream",
          "name": "stdout",
          "text": [
            "the even elements are\n",
            "[8, 6, 4]\n",
            "the sum of even elements is  18\n"
          ]
        }
      ]
    },
    {
      "cell_type": "markdown",
      "source": [
        "Q13. Create a Python function that accepts a string and returns the reverse of that string"
      ],
      "metadata": {
        "id": "TNKHI--_XF6b"
      }
    },
    {
      "cell_type": "code",
      "source": [
        "A=input(\"enter the string to be reversed  \")\n",
        "Ar=A[::-1]\n",
        "print(\"reversed string is \",Ar)"
      ],
      "metadata": {
        "colab": {
          "base_uri": "https://localhost:8080/"
        },
        "id": "1PDoIITOXLQF",
        "outputId": "ac3d3dc3-23b9-4a5e-d529-8433cdd56bdd"
      },
      "execution_count": 40,
      "outputs": [
        {
          "output_type": "stream",
          "name": "stdout",
          "text": [
            "enter the string to be reversed  saik\n",
            "reversed string is  kias\n"
          ]
        }
      ]
    },
    {
      "cell_type": "markdown",
      "source": [
        "Q 14. Implement a Python function that takes a list of integers and returns a new list containing the squares of\n",
        "each number."
      ],
      "metadata": {
        "id": "gdiRws5aZHB_"
      }
    },
    {
      "cell_type": "code",
      "source": [
        "A=[4,6,8,7]\n",
        "def sq(x):\n",
        "  return x**2\n",
        "\n",
        "As=list(map(sq,A))\n",
        "print(As)"
      ],
      "metadata": {
        "colab": {
          "base_uri": "https://localhost:8080/"
        },
        "id": "K6jnq-2tZKie",
        "outputId": "f13796f8-89d6-4788-f251-73f997103792"
      },
      "execution_count": 44,
      "outputs": [
        {
          "output_type": "stream",
          "name": "stdout",
          "text": [
            "[16, 36, 64, 49]\n"
          ]
        }
      ]
    },
    {
      "cell_type": "markdown",
      "source": [
        "Q15 .Write a Python function that checks if a given number is prime or not from 1 to 200"
      ],
      "metadata": {
        "id": "EGgAb-Orb5ue"
      }
    },
    {
      "cell_type": "code",
      "source": [
        "import math\n",
        "no=int(input(\"enter any number between 1 and 200 \"))\n",
        "def is_prime(n):\n",
        "    if n < 2:\n",
        "        return \"not prime\"\n",
        "    i = 2\n",
        "    while i*i <= n:\n",
        "        if n % i == 0:\n",
        "            return \"not prime\"\n",
        "        i += 1\n",
        "    return \"prime\"\n",
        "\n",
        "print(is_prime(no))  # True\n"
      ],
      "metadata": {
        "colab": {
          "base_uri": "https://localhost:8080/"
        },
        "id": "byntVxdykoeZ",
        "outputId": "7d74205a-ad9d-4d0f-92b9-43cd0e7f0315"
      },
      "execution_count": 89,
      "outputs": [
        {
          "output_type": "stream",
          "name": "stdout",
          "text": [
            "enter any number between 1 and 200 6\n",
            "not prime\n"
          ]
        }
      ]
    },
    {
      "cell_type": "markdown",
      "source": [
        "Q16.  Create an iterator class in Python that generates the Fibonacci sequence up to a specified number of\n",
        "terms."
      ],
      "metadata": {
        "id": "6YWP-naemd42"
      }
    },
    {
      "cell_type": "code",
      "source": [
        "def fib(n):\n",
        "  a,b=0,1\n",
        "  for i in range(n):\n",
        "    yield a\n",
        "    a,b=b,a+b\n",
        "no=int(input(\"enter the nnumber of terms needed\"))\n",
        "print(list(fib(no)))"
      ],
      "metadata": {
        "colab": {
          "base_uri": "https://localhost:8080/"
        },
        "id": "K0hzo_X3nfqh",
        "outputId": "06b80670-4e9d-4b1b-9fb7-3d5f02300064"
      },
      "execution_count": 97,
      "outputs": [
        {
          "output_type": "stream",
          "name": "stdout",
          "text": [
            "enter the nnumber of terms needed4\n",
            "[0, 1, 1, 2]\n"
          ]
        }
      ]
    },
    {
      "cell_type": "markdown",
      "source": [
        "Q 17. Write a generator function in Python that yields the powers of 2 up to a given exponent"
      ],
      "metadata": {
        "id": "4Rx5w0WErULa"
      }
    },
    {
      "cell_type": "code",
      "source": [
        "import numpy as np\n",
        "s=[]\n",
        "def ser(n):\n",
        "  for i in range(n):\n",
        "    a=2**(i+1)\n",
        "    s.append(a)\n",
        "  print(list(s))\n",
        "\n",
        "no=int(input(\"enter the number of terms needed\"))\n",
        "ser(no)\n"
      ],
      "metadata": {
        "colab": {
          "base_uri": "https://localhost:8080/"
        },
        "id": "KJSoZoGXrbE_",
        "outputId": "ec5e9c4f-0ac2-4502-aebf-c16db5199de8"
      },
      "execution_count": 103,
      "outputs": [
        {
          "output_type": "stream",
          "name": "stdout",
          "text": [
            "enter the number of terms needed7\n",
            "[2, 4, 8, 16, 32, 64, 128]\n"
          ]
        }
      ]
    },
    {
      "cell_type": "markdown",
      "source": [
        "Q 18.  Implement a generator function that reads a file line by line and yields each line as a string."
      ],
      "metadata": {
        "id": "9vs5Q2KstSTj"
      }
    },
    {
      "cell_type": "code",
      "source": [
        "file1=open('saik.txt')\n",
        "lines=file1.readlines()\n",
        "count=0\n",
        "for line in lines:\n",
        "  print(\"Lines{}:{}\".format(count,line.strip()))\n",
        "  count+=1"
      ],
      "metadata": {
        "colab": {
          "base_uri": "https://localhost:8080/"
        },
        "id": "zAvq5iFhtW8f",
        "outputId": "467177e3-d1de-447b-816b-a9a7cba85ca7"
      },
      "execution_count": 1,
      "outputs": [
        {
          "output_type": "stream",
          "name": "stdout",
          "text": [
            "Lines0:my name is sai\n",
            "Lines1:\n",
            "Lines2:Colab started as a tool built by a small team at Google Research who felt there was a better way to collaborate and iterate in the field of machine learning. Now it’s grown to more than 10 million monthly active users, including millions of students globally, making it Google's largest AI-enabled coding tool. Colab provides developers with frictionless access to powerful computing resources, free of charge, without having to install or manage any software. With its smooth Google Drive integration, it's one of the easiest ways to start programming in Python.\n"
          ]
        }
      ]
    },
    {
      "cell_type": "markdown",
      "source": [
        "Q19. Use a lambda function in Python to sort a list of tuples based on the second element of each tuple"
      ],
      "metadata": {
        "id": "XUPjVn0BQ0VA"
      }
    },
    {
      "cell_type": "code",
      "source": [
        "def sortedlist(t):\n",
        "  t.sort(key=lambda i:i[1])\n",
        "  return t\n",
        "A=[(1,2,3),(4,3,1),(6,1,7)]\n",
        "print(sortedlist(A))"
      ],
      "metadata": {
        "colab": {
          "base_uri": "https://localhost:8080/"
        },
        "id": "QtzpPzdTVMOw",
        "outputId": "b95e4672-b694-4c18-aab9-a90d507327ff"
      },
      "execution_count": 14,
      "outputs": [
        {
          "output_type": "stream",
          "name": "stdout",
          "text": [
            "[(6, 1, 7), (1, 2, 3), (4, 3, 1)]\n"
          ]
        }
      ]
    },
    {
      "cell_type": "markdown",
      "source": [
        "Q 20. Write a Python program that uses `map()` to convert a list of temperatures from Celsius to Fahrenheit"
      ],
      "metadata": {
        "id": "NWRl2fi_ZPyU"
      }
    },
    {
      "cell_type": "code",
      "source": [
        "Cel=[45,32,33,32,31]\n",
        "def celtof(cel):\n",
        "    return (cel*1.8)+32\n",
        "A=list(map(celtof,Cel))\n",
        "print(A)"
      ],
      "metadata": {
        "colab": {
          "base_uri": "https://localhost:8080/"
        },
        "id": "iylyy1oaZVn9",
        "outputId": "dda474ec-e005-4e6c-842b-7f9287d91658"
      },
      "execution_count": 16,
      "outputs": [
        {
          "output_type": "stream",
          "name": "stdout",
          "text": [
            "[113.0, 89.6, 91.4, 89.6, 87.80000000000001]\n"
          ]
        }
      ]
    },
    {
      "cell_type": "markdown",
      "source": [
        "Q 21. Create a Python program that uses `filter()` to remove all the vowels from a given string."
      ],
      "metadata": {
        "id": "9vdyLI8WaHiR"
      }
    },
    {
      "cell_type": "code",
      "source": [
        "A=input(\"enter the string   \")\n",
        "sent=[\"aeiouAEIOU\"]\n",
        "fA=[]\n",
        "def vf(s):\n",
        "  for i in s:\n",
        "    if i in sent:\n",
        "         fA.append(i)\n",
        "    return fA\n",
        "p=list(vf(A))\n",
        "print(p)"
      ],
      "metadata": {
        "colab": {
          "base_uri": "https://localhost:8080/"
        },
        "id": "XILPZKEeaLKM",
        "outputId": "c3dcd9e7-a14d-46e2-e571-d2fe37c403e8"
      },
      "execution_count": 28,
      "outputs": [
        {
          "output_type": "stream",
          "name": "stdout",
          "text": [
            "enter the string   ryz\n",
            "[]\n"
          ]
        }
      ]
    }
  ]
}